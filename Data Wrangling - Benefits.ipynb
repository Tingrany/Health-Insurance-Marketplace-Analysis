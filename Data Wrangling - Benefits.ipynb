{
 "cells": [
  {
   "cell_type": "code",
   "execution_count": 38,
   "metadata": {
    "collapsed": true
   },
   "outputs": [],
   "source": [
    "import pandas as pd\n",
    "import numpy as np"
   ]
  },
  {
   "cell_type": "code",
   "execution_count": 39,
   "metadata": {
    "collapsed": false
   },
   "outputs": [
    {
     "name": "stderr",
     "output_type": "stream",
     "text": [
      "//anaconda/lib/python3.6/site-packages/IPython/core/interactiveshell.py:2717: DtypeWarning: Columns (3,6,9,10,16,17,18) have mixed types. Specify dtype option on import or set low_memory=False.\n",
      "  interactivity=interactivity, compiler=compiler, result=result)\n"
     ]
    }
   ],
   "source": [
    "df = pd.read_csv('BenefitsCostSharing.csv')"
   ]
  },
  {
   "cell_type": "code",
   "execution_count": 68,
   "metadata": {
    "collapsed": false
   },
   "outputs": [],
   "source": [
    "df_clean = df.copy()"
   ]
  },
  {
   "cell_type": "markdown",
   "metadata": {},
   "source": [
    "* CopayInnTier1 and CopayInnTier2, CopayOutofNet has $ sign, and needs two column to describe\n",
    "* CoinsInnTier1, CoinsInnTier2, CoinsOutofNet, has % sign needs two columns to describe\n",
    "* IsEHB,IsStateMandate needs to fill Nan with No\n",
    "* IsCovered has Not Covered and Not covered\n",
    "* QuantLimitOnSvc has No, Yes, yes, no, NO, and Nan = No\n",
    "* IsSubjToDedTier1, IsSubjToDedTier2 has Yes, No, YES, no, yes\n",
    "* LimitQty, LimitUnit only if QLOS is yes. \n",
    "* EHBVarReason has Above EHB, above EHB, Above Ehb; Substantially E(e)qual; ('\\n')Additional"
   ]
  },
  {
   "cell_type": "markdown",
   "metadata": {},
   "source": [
    "### Copay"
   ]
  },
  {
   "cell_type": "code",
   "execution_count": 69,
   "metadata": {
    "collapsed": false
   },
   "outputs": [
    {
     "name": "stderr",
     "output_type": "stream",
     "text": [
      "//anaconda/lib/python3.6/site-packages/ipykernel/__main__.py:12: FutureWarning: currently extract(expand=None) means expand=False (return Index/Series/DataFrame) but in a future version of pandas this will be changed to expand=True (return DataFrame)\n",
      "//anaconda/lib/python3.6/site-packages/ipykernel/__main__.py:14: FutureWarning: currently extract(expand=None) means expand=False (return Index/Series/DataFrame) but in a future version of pandas this will be changed to expand=True (return DataFrame)\n",
      "//anaconda/lib/python3.6/site-packages/ipykernel/__main__.py:16: FutureWarning: currently extract(expand=None) means expand=False (return Index/Series/DataFrame) but in a future version of pandas this will be changed to expand=True (return DataFrame)\n"
     ]
    }
   ],
   "source": [
    "df_clean['CopayInnTier1'] = df_clean['CopayInnTier1'].fillna('Not Covered')\n",
    "df_clean['CopayInnTier2'] = df_clean['CopayInnTier2'].fillna('Not Covered')\n",
    "df_clean['CopayOutofNet'] = df_clean['CopayOutofNet'].fillna('Not Covered')\n",
    "\n",
    "df_clean['CopayInnTier1'] = df_clean['CopayInnTier1'].str.replace('No Charge', '$0')\n",
    "df_clean['CopayInnTier1'] = df_clean['CopayInnTier1'].str.replace('0%', '$0')\n",
    "df_clean['CopayInnTier2'] = df_clean['CopayInnTier2'].str.replace('No Charge', '$0')\n",
    "df_clean['CopayInnTier2'] = df_clean['CopayInnTier2'].str.replace('0%', '$0')\n",
    "df_clean['CopayOutofNet'] = df_clean['CopayOutofNet'].str.replace('No Charge', '$0')\n",
    "df_clean['CopayOutofNet'] = df_clean['CopayOutofNet'].str.replace('0%', '$0')\n",
    "\n",
    "df_clean['CopayInnTier1Value'] = df_clean['CopayInnTier1'].str.extract('(\\d+)')\n",
    "df_clean['CopayInnTier1Unit'] = df_clean['CopayInnTier1'].str.split('(\\d+)').str.get(-1)\n",
    "df_clean['CopayInnTier2Value'] = df_clean['CopayInnTier2'].str.extract('(\\d+)')\n",
    "df_clean['CopayInnTier2Unit'] = df_clean['CopayInnTier2'].str.split('(\\d+)').str.get(-1)\n",
    "df_clean['CopayOutofNetValue'] = df_clean['CopayOutofNet'].str.extract('(\\d+)')\n",
    "df_clean['CopayOutofNetUnit'] = df_clean['CopayOutofNet'].str.split('(\\d+)').str.get(-1)\n",
    "\n",
    "df_clean['CopayInnTier1Value'] = df_clean['CopayInnTier1Value'].astype('float')\n",
    "df_clean['CopayInnTier2Value'] = df_clean['CopayInnTier2Value'].astype('float')\n",
    "df_clean['CopayOutofNetValue'] = df_clean['CopayOutofNetValue'].astype('float')"
   ]
  },
  {
   "cell_type": "code",
   "execution_count": 70,
   "metadata": {
    "collapsed": true
   },
   "outputs": [],
   "source": [
    "df_clean['CopayInnTier1Value'] = df_clean['CopayInnTier1Value'].fillna('-1')\n",
    "df_clean['CopayInnTier1Unit'] = df_clean['CopayInnTier1Unit'].replace('', ' Copay after deductible')\n",
    "df_clean['CopayInnTier2Value'] = df_clean['CopayInnTier2Value'].fillna('-1')\n",
    "df_clean['CopayInnTier2Unit'] = df_clean['CopayInnTier2Unit'].replace('', ' Copay after deductible')\n",
    "df_clean['CopayOutofNetValue'] = df_clean['CopayOutofNetValue'].fillna('-1')\n",
    "df_clean['CopayOutofNetUnit'] = df_clean['CopayOutofNetUnit'].replace('', ' Copay after deductible')"
   ]
  },
  {
   "cell_type": "markdown",
   "metadata": {},
   "source": [
    "### Coinsurance"
   ]
  },
  {
   "cell_type": "code",
   "execution_count": 71,
   "metadata": {
    "collapsed": false
   },
   "outputs": [
    {
     "name": "stderr",
     "output_type": "stream",
     "text": [
      "//anaconda/lib/python3.6/site-packages/ipykernel/__main__.py:16: FutureWarning: currently extract(expand=None) means expand=False (return Index/Series/DataFrame) but in a future version of pandas this will be changed to expand=True (return DataFrame)\n",
      "//anaconda/lib/python3.6/site-packages/ipykernel/__main__.py:18: FutureWarning: currently extract(expand=None) means expand=False (return Index/Series/DataFrame) but in a future version of pandas this will be changed to expand=True (return DataFrame)\n",
      "//anaconda/lib/python3.6/site-packages/ipykernel/__main__.py:20: FutureWarning: currently extract(expand=None) means expand=False (return Index/Series/DataFrame) but in a future version of pandas this will be changed to expand=True (return DataFrame)\n"
     ]
    }
   ],
   "source": [
    "df_clean['CoinsInnTier1'] = df_clean['CoinsInnTier1'].fillna('Not Covered')\n",
    "df_clean['CoinsInnTier2'] = df_clean['CoinsInnTier2'].fillna('Not Covered')\n",
    "df_clean['CoinsOutofNet'] = df_clean['CoinsOutofNet'].fillna('Not Covered')\n",
    "\n",
    "df_clean['CoinsInnTier1'] = df_clean['CoinsInnTier1'].str.replace('No Charge', '0%')\n",
    "df_clean['CoinsInnTier2'] = df_clean['CoinsInnTier2'].str.replace('No Charge', '0%')\n",
    "df_clean['CoinsOutofNet'] = df_clean['CoinsOutofNet'].str.replace('No Charge', '0%')\n",
    "df_clean['CoinsInnTier1'] = df_clean['CoinsInnTier1'].str.replace('$0', '0%')\n",
    "df_clean['CoinsInnTier2'] = df_clean['CoinsInnTier2'].str.replace('$0', '0%')\n",
    "df_clean['CoinsOutofNet'] = df_clean['CoinsOutofNet'].str.replace('$0', '0%')\n",
    "\n",
    "df_clean['CoinsInnTier1'] = df_clean['CoinsInnTier1'].str.replace('0% after deductible', '0% Coinsurance after deductible')\n",
    "df_clean['CoinsInnTier2'] = df_clean['CoinsInnTier2'].str.replace('0% after deductible', '0% Coinsurance after deductible')\n",
    "df_clean['CoinsOutofNet'] = df_clean['CoinsOutofNet'].str.replace('0% after deductible', '0% Coinsurance after deductible')\n",
    "\n",
    "df_clean['CoinsInnTier1Value'] = df_clean['CoinsInnTier1'].str.extract('(\\d+)')\n",
    "df_clean['CoinsInnTier1Unit'] = df_clean['CoinsInnTier1'].str.split('%').str.get(1)\n",
    "df_clean['CoinsInnTier2Value'] = df_clean['CoinsInnTier2'].str.extract('(\\d+)')\n",
    "df_clean['CoinsInnTier2Unit'] = df_clean['CoinsInnTier2'].str.split('%').str.get(1)\n",
    "df_clean['CoinsOutofNetValue'] = df_clean['CoinsOutofNet'].str.extract('(\\d+)')\n",
    "df_clean['CoinsOutofNetUnit'] = df_clean['CoinsOutofNet'].str.split('%').str.get(1)\n",
    "\n",
    "df_clean['CoinsInnTier1Value'] = df_clean['CoinsInnTier1Value'].astype('float')\n",
    "df_clean['CoinsInnTier2Value'] = df_clean['CoinsInnTier2Value'].astype('float')\n",
    "df_clean['CoinsOutofNetValue'] = df_clean['CoinsOutofNetValue'].astype('float')"
   ]
  },
  {
   "cell_type": "code",
   "execution_count": 72,
   "metadata": {
    "collapsed": false
   },
   "outputs": [],
   "source": [
    "df_clean['CoinsInnTier1Value'] = df_clean['CoinsInnTier1Value']/100\n",
    "df_clean['CoinsInnTier2Value'] = df_clean['CoinsInnTier2Value']/100\n",
    "df_clean['CoinsOutofNetValue'] = df_clean['CoinsOutofNetValue']/100"
   ]
  },
  {
   "cell_type": "code",
   "execution_count": 73,
   "metadata": {
    "collapsed": true
   },
   "outputs": [],
   "source": [
    "df_clean['CoinsInnTier1Value'] = df_clean['CoinsInnTier1Value'].fillna('-1')\n",
    "df_clean['CoinsInnTier2Value'] = df_clean['CoinsInnTier2Value'].fillna('-1')\n",
    "df_clean['CoinsOutofNetValue'] = df_clean['CoinsOutofNetValue'].fillna('-1')"
   ]
  },
  {
   "cell_type": "code",
   "execution_count": 74,
   "metadata": {
    "collapsed": true
   },
   "outputs": [],
   "source": [
    "# df_clean.CopayInnTier1Value = pd.to_numeric(df_clean.CopayInnTier1Value, errors='coerce')\n",
    "# df_clean.CopayInnTier2Value = pd.to_numeric(df_clean.CopayInnTier2Value, errors='coerce')\n",
    "# df_clean.CopayOutofNetValue = pd.to_numeric(df_clean.CopayOutofNetValue, errors='coerce')\n",
    "# df_clean.CoinsInnTier1Value = pd.to_numeric(df_clean.CoinsInnTier1Value, errors='coerce')\n",
    "# df_clean.CoinsInnTier2Value = pd.to_numeric(df_clean.CoinsInnTier2Value, errors='coerce')\n",
    "# df_clean.CoinsOutofNetValue = pd.to_numeric(df_clean.CoinsOutofNetValue, errors='coerce')\n"
   ]
  },
  {
   "cell_type": "code",
   "execution_count": 75,
   "metadata": {
    "collapsed": true
   },
   "outputs": [],
   "source": [
    "df_clean['IsEHB'] = df_clean['IsEHB'].fillna('No')\n",
    "df_clean['IsEHB'] = df_clean['IsEHB'].astype('category')\n",
    "df_clean['IsStateMandate'] = df_clean['IsStateMandate'].fillna('No')\n",
    "df_clean['IsStateMandate'] = df_clean['IsStateMandate'].astype('category')"
   ]
  },
  {
   "cell_type": "code",
   "execution_count": 76,
   "metadata": {
    "collapsed": true
   },
   "outputs": [],
   "source": [
    "df_clean['IsCovered'] = df_clean['IsCovered'].fillna('Not Covered')\n",
    "df_clean['IsCovered'] = df_clean['IsCovered'].str.replace('Not covered', 'Not Covered')\n",
    "df_clean['IsCovered'] = df_clean['IsCovered'].astype('category')"
   ]
  },
  {
   "cell_type": "code",
   "execution_count": 77,
   "metadata": {
    "collapsed": true
   },
   "outputs": [],
   "source": [
    "df_clean['QuantLimitOnSvc'] = df_clean['QuantLimitOnSvc'].str.replace('yes', 'Yes')\n",
    "df_clean['QuantLimitOnSvc'] = df_clean['QuantLimitOnSvc'].str.replace('NO', 'No')\n",
    "df_clean['QuantLimitOnSvc'] = df_clean['QuantLimitOnSvc'].str.replace('no', 'No')\n",
    "df_clean['QuantLimitOnSvc'] = df_clean['QuantLimitOnSvc'].fillna('No')\n",
    "df_clean['QuantLimitOnSvc'] = df_clean['QuantLimitOnSvc'].astype('category')"
   ]
  },
  {
   "cell_type": "code",
   "execution_count": 78,
   "metadata": {
    "collapsed": true
   },
   "outputs": [],
   "source": [
    "df_clean['IsSubjToDedTier1'] = df_clean['IsSubjToDedTier1'].str.replace('yes', 'Yes')\n",
    "df_clean['IsSubjToDedTier1'] = df_clean['IsSubjToDedTier1'].str.replace('YES', 'Yes')\n",
    "df_clean['IsSubjToDedTier1'] = df_clean['IsSubjToDedTier1'].str.replace('no', 'No')\n",
    "df_clean['IsSubjToDedTier1'] = df_clean['IsSubjToDedTier1'].astype('category')\n",
    "\n",
    "df_clean['IsSubjToDedTier2'] = df_clean['IsSubjToDedTier2'].str.replace('no', 'No')\n",
    "df_clean['IsSubjToDedTier2'] = df_clean['IsSubjToDedTier2'].str.replace('NO', 'No')\n",
    "df_clean['IsSubjToDedTier2'] = df_clean['IsSubjToDedTier2'].astype('category')"
   ]
  },
  {
   "cell_type": "code",
   "execution_count": 79,
   "metadata": {
    "collapsed": true
   },
   "outputs": [],
   "source": [
    "df_clean['EHBVarReason'] = df_clean['EHBVarReason'].str.replace('\\nAdditional EHB Benefit', 'Additional EHB Benefit')\n",
    "df_clean['EHBVarReason'] = df_clean['EHBVarReason'].str.replace('additional EHB Benefit', 'Additional EHB Benefit')\n",
    "df_clean['EHBVarReason'] = df_clean['EHBVarReason'].str.replace('above EHB', 'Above EHB')\n",
    "df_clean['EHBVarReason'] = df_clean['EHBVarReason'].str.replace('Above Ehb', 'Above EHB')\n",
    "df_clean['EHBVarReason'] = df_clean['EHBVarReason'].str.replace('Substantially equal', 'Substantially Equal')"
   ]
  },
  {
   "cell_type": "code",
   "execution_count": 80,
   "metadata": {
    "collapsed": false
   },
   "outputs": [],
   "source": [
    "df_clean = df_clean.drop(['CoinsInnTier1', 'CoinsInnTier2', 'CoinsOutofNet','CopayInnTier1','CopayInnTier2',\n",
    "              'CopayOutofNet','ImportDate','CoinsInnTier1Unit','CoinsInnTier2Unit','CoinsOutofNetUnit'], axis=1)"
   ]
  },
  {
   "cell_type": "code",
   "execution_count": 81,
   "metadata": {
    "collapsed": true
   },
   "outputs": [],
   "source": [
    "df_clean.to_csv('benefits_clean.csv')"
   ]
  },
  {
   "cell_type": "code",
   "execution_count": 23,
   "metadata": {
    "collapsed": false
   },
   "outputs": [
    {
     "name": "stdout",
     "output_type": "stream",
     "text": [
      "<class 'pandas.core.frame.DataFrame'>\n",
      "RangeIndex: 5048408 entries, 0 to 5048407\n",
      "Data columns (total 34 columns):\n",
      "BenefitName            object\n",
      "BusinessYear           int64\n",
      "EHBVarReason           object\n",
      "Exclusions             object\n",
      "Explanation            object\n",
      "IsCovered              category\n",
      "IsEHB                  category\n",
      "IsExclFromInnMOOP      object\n",
      "IsExclFromOonMOOP      object\n",
      "IsStateMandate         category\n",
      "IsSubjToDedTier1       category\n",
      "IsSubjToDedTier2       category\n",
      "IssuerId               int64\n",
      "IssuerId2              int64\n",
      "LimitQty               float64\n",
      "LimitUnit              object\n",
      "MinimumStay            float64\n",
      "PlanId                 object\n",
      "QuantLimitOnSvc        category\n",
      "RowNumber              int64\n",
      "SourceName             object\n",
      "StandardComponentId    object\n",
      "StateCode              object\n",
      "StateCode2             object\n",
      "VersionNum             int64\n",
      "CopayInnTier1Value     object\n",
      "CopayInnTier1Unit      object\n",
      "CopayInnTier2Value     object\n",
      "CopayInnTier2Unit      object\n",
      "CopayOutofNetValue     object\n",
      "CopayOutofNetUnit      object\n",
      "CoinsInnTier1Value     float64\n",
      "CoinsInnTier2Value     float64\n",
      "CoinsOutofNetValue     float64\n",
      "dtypes: category(6), float64(5), int64(5), object(18)\n",
      "memory usage: 1.1+ GB\n"
     ]
    }
   ],
   "source": [
    "df_clean.info()"
   ]
  },
  {
   "cell_type": "code",
   "execution_count": 3,
   "metadata": {
    "collapsed": false
   },
   "outputs": [
    {
     "name": "stderr",
     "output_type": "stream",
     "text": [
      "//anaconda/lib/python3.6/site-packages/IPython/core/interactiveshell.py:2717: DtypeWarning: Columns (0,7,8,9,10,11,12,13,14,15,18,19,20,22,23,24,25,26,27,28,29,31,32,33,34,39,40,41,42,66,67,68,70,71,72,75,76,77,79,80,81,82,84,85,86,88,89,90,92,93,94,96,97,98,136,137,138,140,141,142,145,146,147,150,151,152,154,155,156,158,159,160,162,163,164,166,167,168) have mixed types. Specify dtype option on import or set low_memory=False.\n",
      "  interactivity=interactivity, compiler=compiler, result=result)\n"
     ]
    }
   ],
   "source": [
    "attribute = pd.read_csv('PlanAttributes.csv')"
   ]
  },
  {
   "cell_type": "code",
   "execution_count": 5,
   "metadata": {
    "collapsed": false
   },
   "outputs": [
    {
     "data": {
      "text/plain": [
       "No     47739\n",
       "Yes    17937\n",
       "yes       28\n",
       "Name: IsReferralRequiredForSpecialist, dtype: int64"
      ]
     },
     "execution_count": 5,
     "metadata": {},
     "output_type": "execute_result"
    }
   ],
   "source": [
    "attribute.IsReferralRequiredForSpecialist.value_counts()"
   ]
  },
  {
   "cell_type": "code",
   "execution_count": null,
   "metadata": {
    "collapsed": true
   },
   "outputs": [],
   "source": []
  }
 ],
 "metadata": {
  "kernelspec": {
   "display_name": "Python 3",
   "language": "python",
   "name": "python3"
  },
  "language_info": {
   "codemirror_mode": {
    "name": "ipython",
    "version": 3
   },
   "file_extension": ".py",
   "mimetype": "text/x-python",
   "name": "python",
   "nbconvert_exporter": "python",
   "pygments_lexer": "ipython3",
   "version": "3.6.0"
  }
 },
 "nbformat": 4,
 "nbformat_minor": 2
}
